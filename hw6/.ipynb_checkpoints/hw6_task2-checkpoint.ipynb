{
 "cells": [
  {
   "cell_type": "code",
   "execution_count": 1,
   "id": "6fa2ab8a",
   "metadata": {},
   "outputs": [],
   "source": [
    "# В результате 10 независимых измерений некоторой величины X, выполненных с одинаковой точностью,\n",
    "# получены опытные данные:\n",
    "# 6.9, 6.1, 6.2, 6.8, 7.5, 6.3, 6.4, 6.9, 6.7, 6.1\n",
    "# Предполагая, что результаты измерений подчинены нормальному закону распределения вероятностей,\n",
    "# оценить истинное значение величины X при помощи доверительного интервала, покрывающего это\n",
    "# значение с доверительной вероятностью 0,95.\n",
    "import numpy as np\n",
    "from scipy import stats\n"
   ]
  },
  {
   "cell_type": "code",
   "execution_count": 3,
   "id": "373c6997",
   "metadata": {},
   "outputs": [
    {
     "data": {
      "text/plain": [
       "2.2621571627409915"
      ]
     },
     "execution_count": 3,
     "metadata": {},
     "output_type": "execute_result"
    }
   ],
   "source": [
    "array = np.array([6.9, 6.1, 6.2, 6.8, 7.5, 6.3, 6.4, 6.9, 6.7, 6.1])\n",
    "n = len(array)\n",
    "alpha = 0.05\n",
    "mean = np.mean(array)\n",
    "std = np.std(array)\n",
    "student = stats.t.ppf(1 - alpha / 2, n - 1)\n",
    "student"
   ]
  },
  {
   "cell_type": "code",
   "execution_count": 4,
   "id": "4c423fa4",
   "metadata": {},
   "outputs": [
    {
     "data": {
      "text/plain": [
       "(6.284064674352047, 6.8959353256479545)"
      ]
     },
     "execution_count": 4,
     "metadata": {},
     "output_type": "execute_result"
    }
   ],
   "source": [
    "interval = (mean - student * std / np.sqrt(n), mean + student * std / np.sqrt(n))\n",
    "interval"
   ]
  }
 ],
 "metadata": {
  "kernelspec": {
   "display_name": "Python 3 (ipykernel)",
   "language": "python",
   "name": "python3"
  },
  "language_info": {
   "codemirror_mode": {
    "name": "ipython",
    "version": 3
   },
   "file_extension": ".py",
   "mimetype": "text/x-python",
   "name": "python",
   "nbconvert_exporter": "python",
   "pygments_lexer": "ipython3",
   "version": "3.9.13"
  }
 },
 "nbformat": 4,
 "nbformat_minor": 5
}
