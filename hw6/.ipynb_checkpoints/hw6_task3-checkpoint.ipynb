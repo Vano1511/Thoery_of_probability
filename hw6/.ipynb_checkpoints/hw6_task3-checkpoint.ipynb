{
 "cells": [
  {
   "cell_type": "code",
   "execution_count": 1,
   "id": "3f673ddf",
   "metadata": {},
   "outputs": [],
   "source": [
    "#  Рост дочерей 175, 167, 154, 174, 178, 148, 160, 167, 169, 170\n",
    "# Рост матерей 178, 165, 165, 173, 168, 155, 160, 164, 178, 175\n",
    "# Используя эти данные построить 95% доверительный интервал для разности среднего роста родителей и детей.\n",
    "import numpy as np\n",
    "from scipy import stats"
   ]
  },
  {
   "cell_type": "code",
   "execution_count": 2,
   "id": "9e85172e",
   "metadata": {},
   "outputs": [],
   "source": [
    "daughters = np.array([175, 167, 154, 174, 178, 148, 160, 167, 169, 170])\n",
    "mothers = np.array([178, 165, 165, 173, 168, 155, 160, 164, 178, 175])\n",
    "alpha = 0.05"
   ]
  },
  {
   "cell_type": "code",
   "execution_count": 7,
   "id": "0c6d4bcf",
   "metadata": {},
   "outputs": [],
   "source": [
    "var_0 = (np.var(mothers) + np.var(daughters)) / 2\n",
    "delta_SE = np.sqrt(var_0 / len(mothers) + var_0 / len(daughters))\n",
    "student = stats.t.ppf(1 - alpha / 2, len(mothers) + len(daughters) - 2)\n",
    "delta_X = np.mean(mothers) - np.mean(daughters)"
   ]
  },
  {
   "cell_type": "code",
   "execution_count": 8,
   "id": "ae8b0549",
   "metadata": {},
   "outputs": [
    {
     "data": {
      "text/plain": [
       "(-5.84924176083125, 9.649241760831261)"
      ]
     },
     "execution_count": 8,
     "metadata": {},
     "output_type": "execute_result"
    }
   ],
   "source": [
    "interval = (delta_X - student * delta_SE, delta_X + student * delta_SE)\n",
    "interval"
   ]
  }
 ],
 "metadata": {
  "kernelspec": {
   "display_name": "Python 3 (ipykernel)",
   "language": "python",
   "name": "python3"
  },
  "language_info": {
   "codemirror_mode": {
    "name": "ipython",
    "version": 3
   },
   "file_extension": ".py",
   "mimetype": "text/x-python",
   "name": "python",
   "nbconvert_exporter": "python",
   "pygments_lexer": "ipython3",
   "version": "3.9.13"
  }
 },
 "nbformat": 4,
 "nbformat_minor": 5
}
