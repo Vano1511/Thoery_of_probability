{
 "cells": [
  {
   "cell_type": "code",
   "execution_count": null,
   "id": "175ed927",
   "metadata": {},
   "outputs": [],
   "source": []
  },
  {
   "cell_type": "code",
   "execution_count": 1,
   "id": "73d3a772",
   "metadata": {},
   "outputs": [],
   "source": [
    "# Известно, что генеральная совокупность распределена нормально\n",
    "# со средним квадратическим отклонением, равным 16.\n",
    "# Найти доверительный интервал для оценки математического ожидания a с надежностью 0.95,\n",
    "# если выборочная средняя M = 80, а объем выборки n = 256.\n",
    "import numpy as np\n",
    "from scipy import stats"
   ]
  },
  {
   "cell_type": "code",
   "execution_count": 3,
   "id": "c00ef1e3",
   "metadata": {},
   "outputs": [],
   "source": [
    "std = 16\n",
    "alpha = 0.05\n",
    "mean = 80\n",
    "n = 256"
   ]
  },
  {
   "cell_type": "code",
   "execution_count": 5,
   "id": "608790dc",
   "metadata": {},
   "outputs": [
    {
     "data": {
      "text/plain": [
       "1.959963984540054"
      ]
     },
     "execution_count": 5,
     "metadata": {},
     "output_type": "execute_result"
    }
   ],
   "source": [
    "zet = stats.norm.ppf(1 - alpha / 2)\n",
    "zet"
   ]
  },
  {
   "cell_type": "code",
   "execution_count": 6,
   "id": "dade95fb",
   "metadata": {},
   "outputs": [
    {
     "data": {
      "text/plain": [
       "(78.04003601545995, 81.95996398454005)"
      ]
     },
     "execution_count": 6,
     "metadata": {},
     "output_type": "execute_result"
    }
   ],
   "source": [
    "interval = (mean - zet * std / np.sqrt(256), mean + zet * std / np.sqrt(256))\n",
    "interval"
   ]
  }
 ],
 "metadata": {
  "kernelspec": {
   "display_name": "Python 3 (ipykernel)",
   "language": "python",
   "name": "python3"
  },
  "language_info": {
   "codemirror_mode": {
    "name": "ipython",
    "version": 3
   },
   "file_extension": ".py",
   "mimetype": "text/x-python",
   "name": "python",
   "nbconvert_exporter": "python",
   "pygments_lexer": "ipython3",
   "version": "3.9.13"
  }
 },
 "nbformat": 4,
 "nbformat_minor": 5
}
