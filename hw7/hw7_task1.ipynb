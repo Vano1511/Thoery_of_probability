{
 "cells": [
  {
   "cell_type": "code",
   "execution_count": null,
   "id": "3b819cdf",
   "metadata": {},
   "outputs": [],
   "source": [
    "# Даны две  независимые выборки. Не соблюдается условие нормальности\n",
    "# x1  380,420, 290\n",
    "# y1 140,360,200,900\n",
    "# Сделайте вывод по результатам, полученным с помощью функции"
   ]
  },
  {
   "cell_type": "code",
   "execution_count": 3,
   "id": "bfab1bd1",
   "metadata": {},
   "outputs": [],
   "source": [
    "import numpy as np\n",
    "from scipy import stats\n"
   ]
  },
  {
   "cell_type": "code",
   "execution_count": 4,
   "id": "e8fa1c39",
   "metadata": {},
   "outputs": [],
   "source": [
    "x1 = np.array([380, 420, 290])\n",
    "y1 = np.array([140, 360, 200, 900])"
   ]
  },
  {
   "cell_type": "code",
   "execution_count": 5,
   "id": "e43fac26",
   "metadata": {},
   "outputs": [
    {
     "data": {
      "text/plain": [
       "MannwhitneyuResult(statistic=8.0, pvalue=0.6285714285714286)"
      ]
     },
     "execution_count": 5,
     "metadata": {},
     "output_type": "execute_result"
    }
   ],
   "source": [
    "stats.mannwhitneyu(x1, y1)"
   ]
  },
  {
   "cell_type": "code",
   "execution_count": null,
   "id": "051c663d",
   "metadata": {},
   "outputs": [],
   "source": [
    "# H_0 gipotesis approved"
   ]
  }
 ],
 "metadata": {
  "kernelspec": {
   "display_name": "Python 3 (ipykernel)",
   "language": "python",
   "name": "python3"
  },
  "language_info": {
   "codemirror_mode": {
    "name": "ipython",
    "version": 3
   },
   "file_extension": ".py",
   "mimetype": "text/x-python",
   "name": "python",
   "nbconvert_exporter": "python",
   "pygments_lexer": "ipython3",
   "version": "3.9.13"
  }
 },
 "nbformat": 4,
 "nbformat_minor": 5
}
