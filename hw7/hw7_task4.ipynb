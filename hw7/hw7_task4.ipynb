{
 "cells": [
  {
   "cell_type": "code",
   "execution_count": null,
   "id": "04a15d7a",
   "metadata": {},
   "outputs": [],
   "source": [
    "# Даны 3 группы  учеников плавания.\n",
    "# В 1 группе время на дистанцию 50 м составляют:\n",
    "# 56, 60, 62, 55, 71, 67, 59, 58, 64, 67\n",
    "# Вторая группа : 57, 58, 69, 48, 72, 70, 68, 71, 50, 53\n",
    "# Третья группа: 57, 67, 49, 48, 47, 55, 66, 51, 54"
   ]
  },
  {
   "cell_type": "code",
   "execution_count": 1,
   "id": "39f96fd5",
   "metadata": {},
   "outputs": [],
   "source": [
    "import numpy as np\n",
    "from scipy import stats"
   ]
  },
  {
   "cell_type": "code",
   "execution_count": 2,
   "id": "9fb4ad4d",
   "metadata": {},
   "outputs": [],
   "source": [
    "g1 = np.array([56, 60, 62, 55, 71, 67, 59, 58, 64, 67])\n",
    "g2 = np.array([57, 58, 69, 48, 72, 70, 68, 71, 50, 53])\n",
    "g3 = np.array([57, 67, 49, 48, 47, 55, 66, 51, 54])"
   ]
  },
  {
   "cell_type": "code",
   "execution_count": 3,
   "id": "d45c9e01",
   "metadata": {},
   "outputs": [
    {
     "data": {
      "text/plain": [
       "KruskalResult(statistic=5.465564058257224, pvalue=0.0650380998590494)"
      ]
     },
     "execution_count": 3,
     "metadata": {},
     "output_type": "execute_result"
    }
   ],
   "source": [
    "stats.kruskal(g1, g2, g3)"
   ]
  },
  {
   "cell_type": "code",
   "execution_count": null,
   "id": "25535876",
   "metadata": {},
   "outputs": [],
   "source": [
    "# H_0 hipotesis approved"
   ]
  }
 ],
 "metadata": {
  "kernelspec": {
   "display_name": "Python 3 (ipykernel)",
   "language": "python",
   "name": "python3"
  },
  "language_info": {
   "codemirror_mode": {
    "name": "ipython",
    "version": 3
   },
   "file_extension": ".py",
   "mimetype": "text/x-python",
   "name": "python",
   "nbconvert_exporter": "python",
   "pygments_lexer": "ipython3",
   "version": "3.9.13"
  }
 },
 "nbformat": 4,
 "nbformat_minor": 5
}
