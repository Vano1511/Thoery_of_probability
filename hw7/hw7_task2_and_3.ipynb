{
 "cells": [
  {
   "cell_type": "code",
   "execution_count": 2,
   "id": "04e4ba46",
   "metadata": {},
   "outputs": [],
   "source": [
    "# Исследовалось влияние препарата на уровень давления пациентов. \n",
    "# Сначала измерялось давление до приема препарата, потом через 10 минут и через 30 минут. \n",
    "# Есть ли статистически значимые различия?\n",
    "# 1е измерение до приема препарата: 150, 160, 165, 145, 155\n",
    "# 2е измерение через 10 минут: 140, 155, 150,  130, 135\n",
    "# 3е измерение через 30 минут: 130, 130, 120, 130, 125\n",
    "# 3 ) Сравните 1 и 2 е измерения, предполагая, что 3го измерения через 30 минут не было."
   ]
  },
  {
   "cell_type": "code",
   "execution_count": 3,
   "id": "136e98d1",
   "metadata": {},
   "outputs": [],
   "source": [
    "import numpy as np\n",
    "from scipy import stats"
   ]
  },
  {
   "cell_type": "code",
   "execution_count": 4,
   "id": "c50eca95",
   "metadata": {},
   "outputs": [],
   "source": [
    "start = np.array([50, 160, 165, 145, 155])\n",
    "min_10 = np.array([140, 155, 150,  130, 135])\n",
    "min_30 = np.array([130, 130, 120, 130, 125])"
   ]
  },
  {
   "cell_type": "code",
   "execution_count": 5,
   "id": "caa366df",
   "metadata": {},
   "outputs": [
    {
     "data": {
      "text/plain": [
       "FriedmanchisquareResult(statistic=4.526315789473681, pvalue=0.10402147666803775)"
      ]
     },
     "execution_count": 5,
     "metadata": {},
     "output_type": "execute_result"
    }
   ],
   "source": [
    "stats.friedmanchisquare(start, min_10, min_30)"
   ]
  },
  {
   "cell_type": "code",
   "execution_count": 6,
   "id": "e89f008e",
   "metadata": {},
   "outputs": [],
   "source": [
    "# H_0 hipotesis approved"
   ]
  },
  {
   "cell_type": "code",
   "execution_count": 7,
   "id": "45b4ef34",
   "metadata": {},
   "outputs": [
    {
     "data": {
      "text/plain": [
       "WilcoxonResult(statistic=5.0, pvalue=0.625)"
      ]
     },
     "execution_count": 7,
     "metadata": {},
     "output_type": "execute_result"
    }
   ],
   "source": [
    "stats.wilcoxon(start, min_10)"
   ]
  },
  {
   "cell_type": "code",
   "execution_count": null,
   "id": "e7ed4953",
   "metadata": {},
   "outputs": [],
   "source": [
    "# task 3: H_0 hipotesis approved"
   ]
  }
 ],
 "metadata": {
  "kernelspec": {
   "display_name": "Python 3 (ipykernel)",
   "language": "python",
   "name": "python3"
  },
  "language_info": {
   "codemirror_mode": {
    "name": "ipython",
    "version": 3
   },
   "file_extension": ".py",
   "mimetype": "text/x-python",
   "name": "python",
   "nbconvert_exporter": "python",
   "pygments_lexer": "ipython3",
   "version": "3.9.13"
  }
 },
 "nbformat": 4,
 "nbformat_minor": 5
}
