{
 "cells": [
  {
   "cell_type": "code",
   "execution_count": 2,
   "id": "f211a001",
   "metadata": {},
   "outputs": [],
   "source": [
    "# Заявляется, что партия изготавливается со средним арифметическим 2,5 см. \n",
    "# Проверить данную гипотезу, если известно, что размеры изделий подчинены нормальному закону распределения. \n",
    "# Объем выборки 10, уровень статистической значимости 5%\n",
    "# 2.51, 2.35, 2.74, 2.56, 2.40, 2.36, 2.65, 2.7, 2.67, 2.34"
   ]
  },
  {
   "cell_type": "code",
   "execution_count": 3,
   "id": "4f1fb655",
   "metadata": {},
   "outputs": [],
   "source": [
    "import numpy as np\n",
    "from scipy import stats\n"
   ]
  },
  {
   "cell_type": "code",
   "execution_count": 15,
   "id": "e27d228d",
   "metadata": {},
   "outputs": [
    {
     "data": {
      "text/plain": [
       "0.02472888888888891"
      ]
     },
     "execution_count": 15,
     "metadata": {},
     "output_type": "execute_result"
    }
   ],
   "source": [
    "volume = np.array([2.51, 2.35, 2.74, 2.56, 2.40, 2.36, 2.65, 2.7, 2.67, 2.34])\n",
    "n = len(volume)\n",
    "mu_0 = 2.5\n",
    "mu_1 = np.mean(volume)   # 2.52\n",
    "alpha = 0.05\n",
    "var_1 = np.var(volume, ddof=1)          # 0.25\n",
    "limit = stats.t.ppf(1 - alpha / 2, n)   # 2.2\n",
    "zet = (mu_1 - mu_0) / np.sqrt(var_1 / n)  # 0.56"
   ]
  },
  {
   "cell_type": "code",
   "execution_count": 14,
   "id": "4a83c63c",
   "metadata": {},
   "outputs": [
    {
     "name": "stdout",
     "output_type": "stream",
     "text": [
      "accepted H_0 hipotesis\n"
     ]
    }
   ],
   "source": [
    "if -1 * limit < zet < limit:\n",
    "    print(f'accepted H_0 hipotesis')\n",
    "else:\n",
    "    print(f'accepted H_1 hipotesis')"
   ]
  }
 ],
 "metadata": {
  "kernelspec": {
   "display_name": "Python 3 (ipykernel)",
   "language": "python",
   "name": "python3"
  },
  "language_info": {
   "codemirror_mode": {
    "name": "ipython",
    "version": 3
   },
   "file_extension": ".py",
   "mimetype": "text/x-python",
   "name": "python",
   "nbconvert_exporter": "python",
   "pygments_lexer": "ipython3",
   "version": "3.9.13"
  }
 },
 "nbformat": 4,
 "nbformat_minor": 5
}
