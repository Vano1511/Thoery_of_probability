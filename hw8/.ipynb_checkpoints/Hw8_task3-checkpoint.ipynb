{
 "cells": [
  {
   "cell_type": "code",
   "execution_count": null,
   "id": "7cba6398",
   "metadata": {},
   "outputs": [],
   "source": [
    "# Известно, что рост футболистов в сборной распределен нормально с дисперсией генеральной совокупности,\n",
    "# равной 25 кв.см. Объем выборки равен 27, среднее выборочное составляет 174.2. \n",
    "# Найдите доверительный интервал для математического ожидания с надежностью 0.95."
   ]
  },
  {
   "cell_type": "code",
   "execution_count": 1,
   "id": "72ae055a",
   "metadata": {},
   "outputs": [],
   "source": [
    "import numpy as np\n",
    "from scipy import stats"
   ]
  },
  {
   "cell_type": "code",
   "execution_count": 2,
   "id": "4f8eda18",
   "metadata": {},
   "outputs": [],
   "source": [
    "n = 27\n",
    "D_0 = 25\n",
    "mu_1 = 174.2\n",
    "alpha = 0.05"
   ]
  },
  {
   "cell_type": "code",
   "execution_count": 3,
   "id": "8de201ad",
   "metadata": {},
   "outputs": [
    {
     "data": {
      "text/plain": [
       "1.959963984540054"
      ]
     },
     "execution_count": 3,
     "metadata": {},
     "output_type": "execute_result"
    }
   ],
   "source": [
    "zet = stats.norm.ppf(1 - alpha / 2)\n",
    "zet"
   ]
  },
  {
   "cell_type": "code",
   "execution_count": 4,
   "id": "ed6a60c9",
   "metadata": {},
   "outputs": [
    {
     "data": {
      "text/plain": [
       "(172.3140237765397, 176.08597622346028)"
      ]
     },
     "execution_count": 4,
     "metadata": {},
     "output_type": "execute_result"
    }
   ],
   "source": [
    "interval = (mu_1 - zet * np.sqrt(D_0 / n), mu_1 + zet * np.sqrt(D_0 / n))\n",
    "interval"
   ]
  }
 ],
 "metadata": {
  "kernelspec": {
   "display_name": "Python 3 (ipykernel)",
   "language": "python",
   "name": "python3"
  },
  "language_info": {
   "codemirror_mode": {
    "name": "ipython",
    "version": 3
   },
   "file_extension": ".py",
   "mimetype": "text/x-python",
   "name": "python",
   "nbconvert_exporter": "python",
   "pygments_lexer": "ipython3",
   "version": "3.9.13"
  }
 },
 "nbformat": 4,
 "nbformat_minor": 5
}
