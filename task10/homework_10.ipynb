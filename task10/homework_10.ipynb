{
 "cells": [
  {
   "cell_type": "code",
   "execution_count": 1,
   "id": "a88d79d8",
   "metadata": {},
   "outputs": [],
   "source": [
    "# Провести дисперсионный анализ для определения того, есть ли различия среднего роста среди взрослых футболистов, \n",
    "# хоккеистов и штангистов.\n",
    "# Даны значения роста в трех группах случайно выбранных спортсменов:\n",
    "# Футболисты: 173, 175, 180, 178, 177, 185, 183, 182.\n",
    "# Хоккеисты: 177, 179, 180, 188, 177, 172, 171, 184, 180.\n",
    "# Штангисты: 172, 173, 169, 177, 166, 180, 178, 177, 172, 166, 170."
   ]
  },
  {
   "cell_type": "code",
   "execution_count": 2,
   "id": "a2d8aa31",
   "metadata": {},
   "outputs": [],
   "source": [
    "import numpy as np\n",
    "from scipy import stats\n"
   ]
  },
  {
   "cell_type": "code",
   "execution_count": 27,
   "id": "4eab6495",
   "metadata": {},
   "outputs": [
    {
     "name": "stdout",
     "output_type": "stream",
     "text": [
      "shapiro(football_players) = ShapiroResult(statistic=0.9775082468986511, pvalue=0.9495404362678528)\n",
      "shapiro(hockey_players) = ShapiroResult(statistic=0.9579196572303772, pvalue=0.7763139009475708)\n",
      "shapiro(weightlifters) = ShapiroResult(statistic=0.9386808276176453, pvalue=0.5051165223121643)\n"
     ]
    },
    {
     "data": {
      "text/plain": [
       "BartlettResult(statistic=0.4640521043406173, pvalue=0.7929254656083238)"
      ]
     },
     "execution_count": 27,
     "metadata": {},
     "output_type": "execute_result"
    }
   ],
   "source": [
    "football_players = np.array([173, 175, 180, 178, 177, 185, 183, 182])\n",
    "hockey_players = np.array([177, 179, 180, 188, 177, 172, 171, 184, 180])\n",
    "weightlifters = np.array([172, 173, 169, 177, 166, 180, 178, 177, 172, 166, 170])\n",
    "print(f\"shapiro(football_players) = {stats.shapiro(football_players)}\\n\"\n",
    "        f\"shapiro(hockey_players) = {stats.shapiro(hockey_players)}\\n\"\n",
    "        f\"shapiro(weightlifters) = {stats.shapiro(weightlifters)}\")\n",
    "stats.bartlett(weightlifters, football_players, hockey_players) \n",
    "#из предварительного анализа видно, что данные в выборках распределены нормально и по Бартлетту тоже все ок - \n",
    "# дисперсии распределены равномерно (pvalue > 0.05)"
   ]
  },
  {
   "cell_type": "code",
   "execution_count": 9,
   "id": "cdcdd924",
   "metadata": {},
   "outputs": [
    {
     "data": {
      "text/plain": [
       "F_onewayResult(statistic=5.500053450812596, pvalue=0.010482206918698694)"
      ]
     },
     "execution_count": 9,
     "metadata": {},
     "output_type": "execute_result"
    }
   ],
   "source": [
    "stats.f_oneway(football_players, hockey_players, weightlifters)\n",
    "# поскольку pvalue < 0.05, то можем не принять нулевую гипотезу(есть различие среднего возраста спортсменов \n",
    "# в зависимости от вида спорта)"
   ]
  },
  {
   "cell_type": "code",
   "execution_count": 10,
   "id": "4c70c605",
   "metadata": {},
   "outputs": [
    {
     "data": {
      "text/plain": [
       "(11, 9, 8)"
      ]
     },
     "execution_count": 10,
     "metadata": {},
     "output_type": "execute_result"
    }
   ],
   "source": [
    "# для проведения теста Тюка нам надо выровнять по объему выборки:\n",
    "len(weightlifters), len(hockey_players), len(football_players)"
   ]
  },
  {
   "cell_type": "code",
   "execution_count": 44,
   "id": "639df2e0",
   "metadata": {},
   "outputs": [
    {
     "data": {
      "text/plain": [
       "array([173.   , 175.   , 180.   , 178.   , 177.   , 185.   , 183.   ,\n",
       "       182.   , 179.125, 179.125, 179.125])"
      ]
     },
     "execution_count": 44,
     "metadata": {},
     "output_type": "execute_result"
    }
   ],
   "source": [
    "# добавляем средние по выборке футболистам\n",
    "football_players = np.array([173, 175, 180, 178, 177, 185, 183, 182])\n",
    "football_players = football_players.astype(np.float64)\n",
    "add_ftb_array = [np.mean(football_players) for _ in range(3)]\n",
    "football_players = np.append(football_players, add_ftb_array)\n",
    "football_players"
   ]
  },
  {
   "cell_type": "code",
   "execution_count": 43,
   "id": "2a576443",
   "metadata": {},
   "outputs": [
    {
     "data": {
      "text/plain": [
       "array([177.        , 179.        , 180.        , 188.        ,\n",
       "       177.        , 172.        , 171.        , 184.        ,\n",
       "       180.        , 178.66666667, 178.66666667])"
      ]
     },
     "execution_count": 43,
     "metadata": {},
     "output_type": "execute_result"
    }
   ],
   "source": [
    "# добавляем средние по выборке хоккеистам\n",
    "hockey_players = np.array([177, 179, 180, 188, 177, 172, 171, 184, 180])\n",
    "hockey_players = hockey_players.astype(np.float64)\n",
    "add_hock_array = [np.mean(hockey_players) for _ in range(2)]\n",
    "hockey_players = np.append(hockey_players, add_hock_array)\n",
    "hockey_players"
   ]
  },
  {
   "cell_type": "code",
   "execution_count": 45,
   "id": "17e07937",
   "metadata": {},
   "outputs": [
    {
     "name": "stdout",
     "output_type": "stream",
     "text": [
      "Tukey's HSD Pairwise Group Comparisons (95.0% Confidence Interval)\n",
      "Comparison  Statistic  p-value  Lower CI  Upper CI\n",
      " (0 - 1)      0.458     0.967    -4.152     5.069\n",
      " (0 - 2)      6.398     0.005     1.787    11.008\n",
      " (1 - 0)     -0.458     0.967    -5.069     4.152\n",
      " (1 - 2)      5.939     0.009     1.329    10.550\n",
      " (2 - 0)     -6.398     0.005   -11.008    -1.787\n",
      " (2 - 1)     -5.939     0.009   -10.550    -1.329\n",
      "\n"
     ]
    }
   ],
   "source": [
    "res = stats.tukey_hsd(football_players, hockey_players, weightlifters)\n",
    "print(res)\n",
    "# из результата теста видно, группа штангистов отличается от остальных\n",
    "# в то время как рост футболистов и хоккеистов не зависит от вида спорта"
   ]
  }
 ],
 "metadata": {
  "kernelspec": {
   "display_name": "Python 3 (ipykernel)",
   "language": "python",
   "name": "python3"
  },
  "language_info": {
   "codemirror_mode": {
    "name": "ipython",
    "version": 3
   },
   "file_extension": ".py",
   "mimetype": "text/x-python",
   "name": "python",
   "nbconvert_exporter": "python",
   "pygments_lexer": "ipython3",
   "version": "3.9.13"
  }
 },
 "nbformat": 4,
 "nbformat_minor": 5
}
