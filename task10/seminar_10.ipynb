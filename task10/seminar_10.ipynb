{
 "cells": [
  {
   "cell_type": "code",
   "execution_count": 1,
   "id": "9569cbf8",
   "metadata": {},
   "outputs": [],
   "source": [
    "import numpy as np\n",
    "from scipy import stats\n"
   ]
  },
  {
   "cell_type": "code",
   "execution_count": 5,
   "id": "ce4c4aff",
   "metadata": {},
   "outputs": [],
   "source": [
    "pu_238 = np.array([0.126, 0.133, 0.127, 0.156, 0.503, 0.113, 0.129, 0.124, 1.022, 1.412, 1.533, 1.534, 1.437, \n",
    "                   1.439, 1.375, 1.153, 0.201, 0.176, 0.239, 0.102, 1.070, 0.851, 0.125, 0.142, 0.352, 0.351, \n",
    "                   0.346, 0.217, 1.068, 1.171, 1.213, 1.226, 1.111, 0.183, 0.162, 0.113, 1.309, 1.638, 1.589, \n",
    "                   1.411, 1.457, 0.397, 0.328, 0.242, 1.367])\n",
    "pu_239 = np.array([75.804, 75.515, 75.175, 78.872, 73.317, 79.116, 75.751, 75.326, 63.287, 59.553, 58.688, 58.758, \n",
    "                   59.728, 59.544, 59.877, 61.182, 78.244, 78.166, 74.254, 79.840, 62.455, 73.189, 75.968, 75.957, \n",
    "                   72.885,72.907, 72.919, 76.089, 70.129, 69.273, 69.147, 68.294, 71.076, 75.714, 76.150, 77.845, \n",
    "                   62.382, 60.112, 60.519, 61.585, 61.332, 72.291, 73.451, 74.888, 60.507])\n",
    "pu_240 = np.array([21.204, 21.408, 21.668, 18.428, 20.223, 18.548, 21.162, 21.557, 24.493, 25.576, 25.719, 25.692, \n",
    "                   25.146, 25.126, 25.128, 25.100, 18.488, 18.629, 21.515, 17.872, 24.656, 18.285, 20.794, 20.867, \n",
    "                   21.718, 21.721, 21.713, 20.225, 18.573, 18.633, 18.640, 18.869, 18.122, 20.750, 20.345, 19.108, \n",
    "                   22.754, 23.320, 23.128, 23.133, 23.239, 21.761, 21.429, 20.939, 23.603])\n",
    "pu_241 = np.array([2.180, 2.240, 2.305, 1.906, 4.128, 1.690, 2.260, 2.282, 6.990, 8.027, 8.279, 8.261, 8.377, 8.569,\n",
    "                   8.428, 7.802, 2.351, 2.365, 2.901, 1.674, 7.512, 5.597, 2.407, 2.341, 3.618, 3.601, 3.600, 2.556,\n",
    "                   7.689, 8.300, 8.363, 8.826, 7.248, 2.488, 2.524, 2.275, 9.311, 9.972, 9.970, 9.339, 9.321, 3.836,\n",
    "                   3.419, 2.875, 9.839])"
   ]
  },
  {
   "cell_type": "code",
   "execution_count": 15,
   "id": "9e37a539",
   "metadata": {},
   "outputs": [
    {
     "name": "stdout",
     "output_type": "stream",
     "text": [
      "shapiro(238) = ShapiroResult(statistic=0.8199635744094849, pvalue=6.733238933520624e-06)\n",
      "shapiro(239) = ShapiroResult(statistic=0.8647032380104065, pvalue=8.951310883276165e-05)\n",
      "shapiro(240) = ShapiroResult(statistic=0.9316781759262085, pvalue=0.010755813680589199)\n",
      "shapiro(241) = ShapiroResult(statistic=0.8336212635040283, pvalue=1.4246789760363754e-05)\n",
      "\n"
     ]
    },
    {
     "data": {
      "text/plain": [
       "BartlettResult(statistic=193.18037166176015, pvalue=1.254780543925411e-41)"
      ]
     },
     "execution_count": 15,
     "metadata": {},
     "output_type": "execute_result"
    }
   ],
   "source": [
    "print(f\"shapiro(238) = {stats.shapiro(pu_238)}\\n\"\n",
    "        f\"shapiro(239) = {stats.shapiro(pu_239)}\\n\"\n",
    "        f\"shapiro(240) = {stats.shapiro(pu_240)}\\n\"\n",
    "        f\"shapiro(241) = {stats.shapiro(pu_241)}\\n\")\n",
    "stats.bartlett(pu_238, pu_239, pu_240, pu_241)"
   ]
  },
  {
   "cell_type": "code",
   "execution_count": 16,
   "id": "4eae7ddf",
   "metadata": {},
   "outputs": [
    {
     "data": {
      "text/plain": [
       "KruskalResult(statistic=167.8178522154513, pvalue=3.76478949748032e-36)"
      ]
     },
     "execution_count": 16,
     "metadata": {},
     "output_type": "execute_result"
    }
   ],
   "source": [
    "stats.kruskal(pu_238, pu_239, pu_240, pu_241)"
   ]
  },
  {
   "cell_type": "code",
   "execution_count": 17,
   "id": "70cea730",
   "metadata": {},
   "outputs": [],
   "source": [
    "JJ_1 = np.array([0.71, 0.63, 0.85, 0.44, 0.61, 0.69, 0.92, 0.55, 0.72, 0.77, 0.92, 0.60, 0.83, 0.80, 1.00, \n",
    "                 0.77, 0.92, 1.00, 1.24, 1.00, 1.16 ])\n",
    "JJ_2 = np.array([1.30, 1.45, 1.25, 1.26, 1.38, 1.86, 1.56, 1.53, 1.59, 1.83, 1.86, 1.53, 2.07, 2.34, 2.25, \n",
    "               2.16, 2.43, 2.70, 2.25, 2.79, 3.42 ])\n",
    "JJ_3 = np.array([3.69, 3.60, 3.60, 4.32, 4.32, 4.05, 4.86, 5.04, 5.04, 4.41, 5.58, 5.85, 6.57, 5.31, 6.03, \n",
    "               6.39, 6.93, 5.85, 6.93, 7.74, 7.83])\n",
    "JJ_4 = np.array([6.12, 7.74, 8.91, 8.28, 6.84, 9.54, 10.26, 9.54, 8.73, 11.88, 12.06, 12.15, 8.91, 14.04, \n",
    "               12.96, 14.85, 9.99, 16.20, 14.67, 16.02, 11.61 ])"
   ]
  },
  {
   "cell_type": "code",
   "execution_count": 19,
   "id": "6593540c",
   "metadata": {},
   "outputs": [
    {
     "name": "stdout",
     "output_type": "stream",
     "text": [
      "shapiro(JJ_1) = ShapiroResult(statistic=0.9837694764137268, pvalue=0.9688350558280945)\n",
      "shapiro(JJ_2) = ShapiroResult(statistic=0.9252575635910034, pvalue=0.11057926714420319)\n",
      "shapiro(JJ_3) = ShapiroResult(statistic=0.9523218274116516, pvalue=0.37654614448547363)\n",
      "shapiro(JJ_4) = ShapiroResult(statistic=0.9590807557106018, pvalue=0.49780404567718506)\n",
      "\n"
     ]
    },
    {
     "data": {
      "text/plain": [
       "BartlettResult(statistic=109.62893110687118, pvalue=1.318837833249849e-23)"
      ]
     },
     "execution_count": 19,
     "metadata": {},
     "output_type": "execute_result"
    }
   ],
   "source": [
    "print(f\"shapiro(JJ_1) = {stats.shapiro(JJ_1)}\\n\"\n",
    "        f\"shapiro(JJ_2) = {stats.shapiro(JJ_2)}\\n\"\n",
    "        f\"shapiro(JJ_3) = {stats.shapiro(JJ_3)}\\n\"\n",
    "        f\"shapiro(JJ_4) = {stats.shapiro(JJ_4)}\\n\")\n",
    "stats.bartlett(JJ_1, JJ_2, JJ_3, JJ_4)"
   ]
  },
  {
   "cell_type": "code",
   "execution_count": 24,
   "id": "72f482da",
   "metadata": {},
   "outputs": [
    {
     "data": {
      "text/plain": [
       "F_onewayResult(statistic=162.03157448390618, pvalue=6.81307443530621e-34)"
      ]
     },
     "execution_count": 24,
     "metadata": {},
     "output_type": "execute_result"
    }
   ],
   "source": [
    "stats.f_oneway(JJ_1, JJ_2, JJ_3, JJ_4)"
   ]
  },
  {
   "cell_type": "code",
   "execution_count": 26,
   "id": "3cdb8375",
   "metadata": {},
   "outputs": [
    {
     "name": "stdout",
     "output_type": "stream",
     "text": [
      "Tukey's HSD Pairwise Group Comparisons (95.0% Confidence Interval)\n",
      "Comparison  Statistic  p-value  Lower CI  Upper CI\n",
      " (0 - 1)     -1.128     0.128    -2.464     0.209\n",
      " (0 - 2)     -4.610     0.000    -5.946    -3.274\n",
      " (0 - 3)    -10.199     0.000   -11.535    -8.862\n",
      " (1 - 0)      1.128     0.128    -0.209     2.464\n",
      " (1 - 2)     -3.482     0.000    -4.819    -2.146\n",
      " (1 - 3)     -9.071     0.000   -10.407    -7.735\n",
      " (2 - 0)      4.610     0.000     3.274     5.946\n",
      " (2 - 1)      3.482     0.000     2.146     4.819\n",
      " (2 - 3)     -5.589     0.000    -6.925    -4.252\n",
      " (3 - 0)     10.199     0.000     8.862    11.535\n",
      " (3 - 1)      9.071     0.000     7.735    10.407\n",
      " (3 - 2)      5.589     0.000     4.252     6.925\n",
      "\n"
     ]
    }
   ],
   "source": [
    "res = stats.tukey_hsd(JJ_1, JJ_2, JJ_3, JJ_4)\n",
    "print(res)"
   ]
  },
  {
   "cell_type": "code",
   "execution_count": 34,
   "id": "97ed2f0c",
   "metadata": {},
   "outputs": [
    {
     "data": {
      "text/plain": [
       "Ttest_relResult(statistic=7.972831441034037, pvalue=0.9999886277862766)"
      ]
     },
     "execution_count": 34,
     "metadata": {},
     "output_type": "execute_result"
    }
   ],
   "source": [
    "before = np.array([92.8 , 95.6, 92.1, 100.6, 96.2, 92.1, 96.7, 97.6, 97.0, 93.9])\n",
    "after = np.array([87.1, 84.1, 81.3, 77.0, 86.0, 82.9, 83.0, 85.5, 85.2, 84.6])\n",
    "stats.ttest_rel(before, after, alternative=\"less\")"
   ]
  }
 ],
 "metadata": {
  "kernelspec": {
   "display_name": "Python 3 (ipykernel)",
   "language": "python",
   "name": "python3"
  },
  "language_info": {
   "codemirror_mode": {
    "name": "ipython",
    "version": 3
   },
   "file_extension": ".py",
   "mimetype": "text/x-python",
   "name": "python",
   "nbconvert_exporter": "python",
   "pygments_lexer": "ipython3",
   "version": "3.9.13"
  }
 },
 "nbformat": 4,
 "nbformat_minor": 5
}
