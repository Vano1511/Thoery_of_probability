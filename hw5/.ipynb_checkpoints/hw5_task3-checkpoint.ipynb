{
 "cells": [
  {
   "cell_type": "code",
   "execution_count": 9,
   "id": "0b5d1156",
   "metadata": {},
   "outputs": [],
   "source": [
    "from scipy import stats\n",
    "import numpy as np\n",
    "\n",
    "alpha = 0.01\n",
    "x_0 = 200\n",
    "array = np.array([202, 203, 199, 197, 195, 201, 200, 204, 194, 190])\n"
   ]
  },
  {
   "cell_type": "code",
   "execution_count": 10,
   "id": "d57d0815",
   "metadata": {},
   "outputs": [
    {
     "data": {
      "text/plain": [
       "19.833333333333332"
      ]
     },
     "execution_count": 10,
     "metadata": {},
     "output_type": "execute_result"
    }
   ],
   "source": [
    "var = np.var(array, ddof=1)\n",
    "var"
   ]
  },
  {
   "cell_type": "code",
   "execution_count": 11,
   "id": "4d9540c5",
   "metadata": {},
   "outputs": [
    {
     "data": {
      "text/plain": [
       "198.5"
      ]
     },
     "execution_count": 11,
     "metadata": {},
     "output_type": "execute_result"
    }
   ],
   "source": [
    "x_1 = np.mean(array)\n",
    "x_1"
   ]
  },
  {
   "cell_type": "code",
   "execution_count": 12,
   "id": "52dbcfa4",
   "metadata": {},
   "outputs": [
    {
     "data": {
      "text/plain": [
       "3.169272667175838"
      ]
     },
     "execution_count": 12,
     "metadata": {},
     "output_type": "execute_result"
    }
   ],
   "source": [
    "limit = stats.t.ppf(1 - alpha / 2, len(array))\n",
    "limit"
   ]
  },
  {
   "cell_type": "code",
   "execution_count": 13,
   "id": "c317f940",
   "metadata": {},
   "outputs": [
    {
     "data": {
      "text/plain": [
       "-1.0651074037450896"
      ]
     },
     "execution_count": 13,
     "metadata": {},
     "output_type": "execute_result"
    }
   ],
   "source": [
    "zet = (x_1 - x_0) / np.sqrt(var / len(array))\n",
    "zet"
   ]
  },
  {
   "cell_type": "code",
   "execution_count": 14,
   "id": "c5a7425c",
   "metadata": {},
   "outputs": [
    {
     "name": "stdout",
     "output_type": "stream",
     "text": [
      "accepted H_0 hipotesis\n"
     ]
    }
   ],
   "source": [
    "if -1 * limit < zet < limit:\n",
    "    print(f'accepted H_0 hipotesis')\n",
    "else:\n",
    "    print(f'accepted H_1 hipotesis')"
   ]
  },
  {
   "cell_type": "code",
   "execution_count": null,
   "id": "10abc740",
   "metadata": {},
   "outputs": [],
   "source": []
  }
 ],
 "metadata": {
  "kernelspec": {
   "display_name": "Python 3 (ipykernel)",
   "language": "python",
   "name": "python3"
  },
  "language_info": {
   "codemirror_mode": {
    "name": "ipython",
    "version": 3
   },
   "file_extension": ".py",
   "mimetype": "text/x-python",
   "name": "python",
   "nbconvert_exporter": "python",
   "pygments_lexer": "ipython3",
   "version": "3.9.13"
  }
 },
 "nbformat": 4,
 "nbformat_minor": 5
}
