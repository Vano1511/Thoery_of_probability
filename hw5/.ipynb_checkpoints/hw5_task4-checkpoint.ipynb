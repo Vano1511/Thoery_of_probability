{
 "cells": [
  {
   "cell_type": "code",
   "execution_count": 1,
   "id": "e001a88c",
   "metadata": {},
   "outputs": [],
   "source": [
    "# Есть ли статистически значимые различия в росте дочерей?\n",
    "# Рост матерей 172, 177, 158, 170, 178, 175, 164, 160, 169\n",
    "# Рост взрослых дочерей: 173, 175, 162, 174, 175, 168, 155, 170, 160\n",
    "\n",
    "from scipy import stats\n",
    "import numpy as np"
   ]
  },
  {
   "cell_type": "code",
   "execution_count": 28,
   "id": "1d86e5b6",
   "metadata": {},
   "outputs": [],
   "source": [
    "alpha = 0.05\n",
    "mothers = np.array([172, 177, 158, 170, 178, 175, 164, 160, 169])\n",
    "daughters = np.array([173, 175, 162, 174, 175, 168, 155, 170, 160])\n"
   ]
  },
  {
   "cell_type": "code",
   "execution_count": 29,
   "id": "2cfb9ba7",
   "metadata": {},
   "outputs": [
    {
     "data": {
      "text/plain": [
       "0.5911212354055175"
      ]
     },
     "execution_count": 29,
     "metadata": {},
     "output_type": "execute_result"
    }
   ],
   "source": [
    "stat, pvalue = stats.ttest_rel(mothers, daughters)\n",
    "pvalue"
   ]
  },
  {
   "cell_type": "code",
   "execution_count": 30,
   "id": "83df5f90",
   "metadata": {},
   "outputs": [
    {
     "name": "stdout",
     "output_type": "stream",
     "text": [
      "accepted H_0 hipotesis\n"
     ]
    }
   ],
   "source": [
    "if pvalue > alpha:\n",
    "    print(f'accepted H_0 hipotesis')\n",
    "else:\n",
    "    print(f'accepted H_1 hipotesis')"
   ]
  }
 ],
 "metadata": {
  "kernelspec": {
   "display_name": "Python 3 (ipykernel)",
   "language": "python",
   "name": "python3"
  },
  "language_info": {
   "codemirror_mode": {
    "name": "ipython",
    "version": 3
   },
   "file_extension": ".py",
   "mimetype": "text/x-python",
   "name": "python",
   "nbconvert_exporter": "python",
   "pygments_lexer": "ipython3",
   "version": "3.9.13"
  }
 },
 "nbformat": 4,
 "nbformat_minor": 5
}
